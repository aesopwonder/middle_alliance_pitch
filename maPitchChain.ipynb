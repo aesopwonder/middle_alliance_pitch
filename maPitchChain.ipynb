{
 "cells": [
  {
   "cell_type": "code",
   "execution_count": 1,
   "metadata": {
    "collapsed": true
   },
   "outputs": [],
   "source": [
    "from Savoir import Savoir"
   ]
  },
  {
   "cell_type": "code",
   "execution_count": 2,
   "metadata": {
    "collapsed": true
   },
   "outputs": [],
   "source": [
    "#setting up\n",
    "multichainRPCUser = 'multichainrpc'\n",
    "multichainRPCPassword = 'test'\n",
    "multichainRPCHost = '131.247.196.108'\n",
    "multichainRPCPort = '2690'\n",
    "multichainRPCChainName = 'maPitchChain'"
   ]
  },
  {
   "cell_type": "code",
   "execution_count": 3,
   "metadata": {
    "collapsed": true
   },
   "outputs": [],
   "source": [
    "multichainSavoirObject = Savoir(multichainRPCUser, multichainRPCPassword, multichainRPCHost, multichainRPCPort, multichainRPCChainName)"
   ]
  },
  {
   "cell_type": "code",
   "execution_count": 4,
   "metadata": {},
   "outputs": [
    {
     "name": "stdout",
     "output_type": "stream",
     "text": [
      "['12EQ4MkgLQqQL3sotXzgmGNXxpwezZ2dn1uuaC', '1Kyj1SW8JK25YyW5RaVQSCjnHQ7YUMSbxgHZX2', '12R5h2yavBChCtfhpFsQryXBbZueMxPoqU7eYt', '162GH3TAeWrfVLKDTTukyzqiRGdcvCUpEmiwzi']\n"
     ]
    }
   ],
   "source": [
    "#getting addresses\n",
    "print(multichainSavoirObject.getaddresses())"
   ]
  },
  {
   "cell_type": "code",
   "execution_count": null,
   "metadata": {
    "collapsed": true
   },
   "outputs": [],
   "source": []
  }
 ],
 "metadata": {
  "kernelspec": {
   "display_name": "Python 3",
   "language": "python",
   "name": "python3"
  },
  "language_info": {
   "codemirror_mode": {
    "name": "ipython",
    "version": 3
   },
   "file_extension": ".py",
   "mimetype": "text/x-python",
   "name": "python",
   "nbconvert_exporter": "python",
   "pygments_lexer": "ipython3",
   "version": "3.6.1"
  }
 },
 "nbformat": 4,
 "nbformat_minor": 2
}
